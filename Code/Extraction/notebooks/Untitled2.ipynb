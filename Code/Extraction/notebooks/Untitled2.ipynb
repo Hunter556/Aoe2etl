{
 "cells": [
  {
   "cell_type": "code",
   "execution_count": null,
   "id": "402493bc",
   "metadata": {},
   "outputs": [],
   "source": [
    "from google.cloud import dataproc_v1\n",
    "from google.oauth2 import service_account"
   ]
  },
  {
   "cell_type": "code",
   "execution_count": 11,
   "id": "437f6de6",
   "metadata": {},
   "outputs": [],
   "source": [
    "keypath = 'dataprocaoe2.json'\n",
    "credentials = service_account.Credentials.from_service_account_file(\n",
    "        keypath, scopes=[\"https://www.googleapis.com/auth/cloud-platform\"]\n",
    "\n",
    ")\n",
    "def authentificate():\n",
    "\n",
    "    #\n",
    "    your_region = \"us1-central\"\n",
    "    print(credentials.project_id)\n",
    "    return dataproc_v1.WorkflowTemplateServiceClient(\n",
    "    credentials=credentials,\n",
    "    client_options={'api_endpoint': 'us-central1-dataproc.googleapis.com:443'}\n",
    "    )\n",
    "def sample_get_workflow_template():\n",
    "    # Create a client\n",
    "    client = authentificate()\n",
    "    name = \"projects/test-757ec/regions/us-central1/workflowTemplates/aoe2etl\"\n",
    "    # Initialize request argument(s)\n",
    "    request = dataproc_v1.GetWorkflowTemplateRequest(\n",
    "        name=name,\n",
    "    )\n",
    "\n",
    "    # Make the request\n",
    "    response = client.get_workflow_template(request=request)\n",
    "\n",
    "    # Handle the response\n",
    "    print(response)\n",
    "#sample_get_workflow_template()"
   ]
  },
  {
   "cell_type": "code",
   "execution_count": 4,
   "id": "cf8ab6b9",
   "metadata": {},
   "outputs": [
    {
     "name": "stdout",
     "output_type": "stream",
     "text": [
      "test-757ec\n",
      "name: \"projects/test-757ec/regions/us-central1/workflowTemplates/aoe2etle\"\n",
      "id: \"aoe2etle\"\n",
      "version: 1\n",
      "create_time {\n",
      "  seconds: 1646576840\n",
      "  nanos: 702148000\n",
      "}\n",
      "update_time {\n",
      "  seconds: 1646576840\n",
      "  nanos: 702148000\n",
      "}\n",
      "placement {\n",
      "  managed_cluster {\n",
      "    cluster_name: \"etlcluster\"\n",
      "    config {\n",
      "      config_bucket: \"aoe2spark\"\n",
      "      gce_cluster_config {\n",
      "        zone_uri: \"us-central1-f\"\n",
      "        network_uri: \"default\"\n",
      "        service_account_scopes: \"https://www.googleapis.com/auth/cloud-platform\"\n",
      "      }\n",
      "      master_config {\n",
      "        num_instances: 1\n",
      "        machine_type_uri: \"n1-standard-4\"\n",
      "        disk_config {\n",
      "          boot_disk_size_gb: 500\n",
      "          boot_disk_type: \"pd-standard\"\n",
      "        }\n",
      "      }\n",
      "      worker_config {\n",
      "        num_instances: 2\n",
      "        machine_type_uri: \"n1-standard-4\"\n",
      "        disk_config {\n",
      "          boot_disk_size_gb: 500\n",
      "          boot_disk_type: \"pd-standard\"\n",
      "        }\n",
      "      }\n",
      "      software_config {\n",
      "        image_version: \"2.0-debian10\"\n",
      "      }\n",
      "    }\n",
      "  }\n",
      "}\n",
      "jobs {\n",
      "  step_id: \"etljob\"\n",
      "  pyspark_job {\n",
      "    main_python_file_uri: \"gs://aoe2spark/word.py\"\n",
      "  }\n",
      "}\n",
      "\n"
     ]
    }
   ],
   "source": [
    "\n",
    "def sample_list_workflow_templates():\n",
    "    # Create a client\n",
    "    client = authentificate()\n",
    "\n",
    "    # Initialize request argument(s)\n",
    "    request = dataproc_v1.ListWorkflowTemplatesRequest(\n",
    "        parent=\"projects/test-757ec/regions/us-central1\",\n",
    "    )\n",
    "\n",
    "    # Make the request\n",
    "    page_result = client.list_workflow_templates(request=request)\n",
    "\n",
    "    # Handle the response\n",
    "    for response in page_result:\n",
    "        print(response)\n",
    "sample_list_workflow_templates()"
   ]
  },
  {
   "cell_type": "code",
   "execution_count": 12,
   "id": "95b29fdb",
   "metadata": {},
   "outputs": [
    {
     "name": "stdout",
     "output_type": "stream",
     "text": [
      "test-757ec\n",
      "Waiting for operation to complete...\n"
     ]
    },
    {
     "ename": "KeyboardInterrupt",
     "evalue": "",
     "output_type": "error",
     "traceback": [
      "\u001b[1;31m---------------------------------------------------------------------------\u001b[0m",
      "\u001b[1;31mKeyboardInterrupt\u001b[0m                         Traceback (most recent call last)",
      "\u001b[1;32m~\\AppData\\Local\\Temp/ipykernel_3160/476108609.py\u001b[0m in \u001b[0;36m<module>\u001b[1;34m\u001b[0m\n\u001b[0;32m     16\u001b[0m     \u001b[1;31m# Handle the response\u001b[0m\u001b[1;33m\u001b[0m\u001b[1;33m\u001b[0m\u001b[0m\n\u001b[0;32m     17\u001b[0m     \u001b[0mprint\u001b[0m\u001b[1;33m(\u001b[0m\u001b[0mresponse\u001b[0m\u001b[1;33m)\u001b[0m\u001b[1;33m\u001b[0m\u001b[1;33m\u001b[0m\u001b[0m\n\u001b[1;32m---> 18\u001b[1;33m \u001b[0msample_instantiate_workflow_template\u001b[0m\u001b[1;33m(\u001b[0m\u001b[1;33m)\u001b[0m\u001b[1;33m\u001b[0m\u001b[1;33m\u001b[0m\u001b[0m\n\u001b[0m",
      "\u001b[1;32m~\\AppData\\Local\\Temp/ipykernel_3160/476108609.py\u001b[0m in \u001b[0;36msample_instantiate_workflow_template\u001b[1;34m()\u001b[0m\n\u001b[0;32m     12\u001b[0m     \u001b[0mprint\u001b[0m\u001b[1;33m(\u001b[0m\u001b[1;34m\"Waiting for operation to complete...\"\u001b[0m\u001b[1;33m)\u001b[0m\u001b[1;33m\u001b[0m\u001b[1;33m\u001b[0m\u001b[0m\n\u001b[0;32m     13\u001b[0m \u001b[1;33m\u001b[0m\u001b[0m\n\u001b[1;32m---> 14\u001b[1;33m     \u001b[0mresponse\u001b[0m \u001b[1;33m=\u001b[0m \u001b[0moperation\u001b[0m\u001b[1;33m.\u001b[0m\u001b[0mresult\u001b[0m\u001b[1;33m(\u001b[0m\u001b[1;33m)\u001b[0m\u001b[1;33m\u001b[0m\u001b[1;33m\u001b[0m\u001b[0m\n\u001b[0m\u001b[0;32m     15\u001b[0m \u001b[1;33m\u001b[0m\u001b[0m\n\u001b[0;32m     16\u001b[0m     \u001b[1;31m# Handle the response\u001b[0m\u001b[1;33m\u001b[0m\u001b[1;33m\u001b[0m\u001b[0m\n",
      "\u001b[1;32m~\\miniconda3\\envs\\aoe2spark\\lib\\site-packages\\google\\api_core\\future\\polling.py\u001b[0m in \u001b[0;36mresult\u001b[1;34m(self, timeout, retry)\u001b[0m\n\u001b[0;32m    130\u001b[0m         \"\"\"\n\u001b[0;32m    131\u001b[0m         \u001b[0mkwargs\u001b[0m \u001b[1;33m=\u001b[0m \u001b[1;33m{\u001b[0m\u001b[1;33m}\u001b[0m \u001b[1;32mif\u001b[0m \u001b[0mretry\u001b[0m \u001b[1;32mis\u001b[0m \u001b[0mDEFAULT_RETRY\u001b[0m \u001b[1;32melse\u001b[0m \u001b[1;33m{\u001b[0m\u001b[1;34m\"retry\"\u001b[0m\u001b[1;33m:\u001b[0m \u001b[0mretry\u001b[0m\u001b[1;33m}\u001b[0m\u001b[1;33m\u001b[0m\u001b[1;33m\u001b[0m\u001b[0m\n\u001b[1;32m--> 132\u001b[1;33m         \u001b[0mself\u001b[0m\u001b[1;33m.\u001b[0m\u001b[0m_blocking_poll\u001b[0m\u001b[1;33m(\u001b[0m\u001b[0mtimeout\u001b[0m\u001b[1;33m=\u001b[0m\u001b[0mtimeout\u001b[0m\u001b[1;33m,\u001b[0m \u001b[1;33m**\u001b[0m\u001b[0mkwargs\u001b[0m\u001b[1;33m)\u001b[0m\u001b[1;33m\u001b[0m\u001b[1;33m\u001b[0m\u001b[0m\n\u001b[0m\u001b[0;32m    133\u001b[0m \u001b[1;33m\u001b[0m\u001b[0m\n\u001b[0;32m    134\u001b[0m         \u001b[1;32mif\u001b[0m \u001b[0mself\u001b[0m\u001b[1;33m.\u001b[0m\u001b[0m_exception\u001b[0m \u001b[1;32mis\u001b[0m \u001b[1;32mnot\u001b[0m \u001b[1;32mNone\u001b[0m\u001b[1;33m:\u001b[0m\u001b[1;33m\u001b[0m\u001b[1;33m\u001b[0m\u001b[0m\n",
      "\u001b[1;32m~\\miniconda3\\envs\\aoe2spark\\lib\\site-packages\\google\\api_core\\future\\polling.py\u001b[0m in \u001b[0;36m_blocking_poll\u001b[1;34m(self, timeout, retry)\u001b[0m\n\u001b[0;32m    108\u001b[0m         \u001b[1;32mtry\u001b[0m\u001b[1;33m:\u001b[0m\u001b[1;33m\u001b[0m\u001b[1;33m\u001b[0m\u001b[0m\n\u001b[0;32m    109\u001b[0m             \u001b[0mkwargs\u001b[0m \u001b[1;33m=\u001b[0m \u001b[1;33m{\u001b[0m\u001b[1;33m}\u001b[0m \u001b[1;32mif\u001b[0m \u001b[0mretry\u001b[0m \u001b[1;32mis\u001b[0m \u001b[0mDEFAULT_RETRY\u001b[0m \u001b[1;32melse\u001b[0m \u001b[1;33m{\u001b[0m\u001b[1;34m\"retry\"\u001b[0m\u001b[1;33m:\u001b[0m \u001b[0mretry\u001b[0m\u001b[1;33m}\u001b[0m\u001b[1;33m\u001b[0m\u001b[1;33m\u001b[0m\u001b[0m\n\u001b[1;32m--> 110\u001b[1;33m             \u001b[0mretry_\u001b[0m\u001b[1;33m(\u001b[0m\u001b[0mself\u001b[0m\u001b[1;33m.\u001b[0m\u001b[0m_done_or_raise\u001b[0m\u001b[1;33m)\u001b[0m\u001b[1;33m(\u001b[0m\u001b[1;33m**\u001b[0m\u001b[0mkwargs\u001b[0m\u001b[1;33m)\u001b[0m\u001b[1;33m\u001b[0m\u001b[1;33m\u001b[0m\u001b[0m\n\u001b[0m\u001b[0;32m    111\u001b[0m         \u001b[1;32mexcept\u001b[0m \u001b[0mexceptions\u001b[0m\u001b[1;33m.\u001b[0m\u001b[0mRetryError\u001b[0m\u001b[1;33m:\u001b[0m\u001b[1;33m\u001b[0m\u001b[1;33m\u001b[0m\u001b[0m\n\u001b[0;32m    112\u001b[0m             raise concurrent.futures.TimeoutError(\n",
      "\u001b[1;32m~\\miniconda3\\envs\\aoe2spark\\lib\\site-packages\\google\\api_core\\retry.py\u001b[0m in \u001b[0;36mretry_wrapped_func\u001b[1;34m(*args, **kwargs)\u001b[0m\n\u001b[0;32m    281\u001b[0m                 \u001b[0mself\u001b[0m\u001b[1;33m.\u001b[0m\u001b[0m_initial\u001b[0m\u001b[1;33m,\u001b[0m \u001b[0mself\u001b[0m\u001b[1;33m.\u001b[0m\u001b[0m_maximum\u001b[0m\u001b[1;33m,\u001b[0m \u001b[0mmultiplier\u001b[0m\u001b[1;33m=\u001b[0m\u001b[0mself\u001b[0m\u001b[1;33m.\u001b[0m\u001b[0m_multiplier\u001b[0m\u001b[1;33m\u001b[0m\u001b[1;33m\u001b[0m\u001b[0m\n\u001b[0;32m    282\u001b[0m             )\n\u001b[1;32m--> 283\u001b[1;33m             return retry_target(\n\u001b[0m\u001b[0;32m    284\u001b[0m                 \u001b[0mtarget\u001b[0m\u001b[1;33m,\u001b[0m\u001b[1;33m\u001b[0m\u001b[1;33m\u001b[0m\u001b[0m\n\u001b[0;32m    285\u001b[0m                 \u001b[0mself\u001b[0m\u001b[1;33m.\u001b[0m\u001b[0m_predicate\u001b[0m\u001b[1;33m,\u001b[0m\u001b[1;33m\u001b[0m\u001b[1;33m\u001b[0m\u001b[0m\n",
      "\u001b[1;32m~\\miniconda3\\envs\\aoe2spark\\lib\\site-packages\\google\\api_core\\retry.py\u001b[0m in \u001b[0;36mretry_target\u001b[1;34m(target, predicate, sleep_generator, deadline, on_error)\u001b[0m\n\u001b[0;32m    216\u001b[0m             \u001b[1;34m\"Retrying due to {}, sleeping {:.1f}s ...\"\u001b[0m\u001b[1;33m.\u001b[0m\u001b[0mformat\u001b[0m\u001b[1;33m(\u001b[0m\u001b[0mlast_exc\u001b[0m\u001b[1;33m,\u001b[0m \u001b[0msleep\u001b[0m\u001b[1;33m)\u001b[0m\u001b[1;33m\u001b[0m\u001b[1;33m\u001b[0m\u001b[0m\n\u001b[0;32m    217\u001b[0m         )\n\u001b[1;32m--> 218\u001b[1;33m         \u001b[0mtime\u001b[0m\u001b[1;33m.\u001b[0m\u001b[0msleep\u001b[0m\u001b[1;33m(\u001b[0m\u001b[0msleep\u001b[0m\u001b[1;33m)\u001b[0m\u001b[1;33m\u001b[0m\u001b[1;33m\u001b[0m\u001b[0m\n\u001b[0m\u001b[0;32m    219\u001b[0m \u001b[1;33m\u001b[0m\u001b[0m\n\u001b[0;32m    220\u001b[0m     \u001b[1;32mraise\u001b[0m \u001b[0mValueError\u001b[0m\u001b[1;33m(\u001b[0m\u001b[1;34m\"Sleep generator stopped yielding sleep values.\"\u001b[0m\u001b[1;33m)\u001b[0m\u001b[1;33m\u001b[0m\u001b[1;33m\u001b[0m\u001b[0m\n",
      "\u001b[1;31mKeyboardInterrupt\u001b[0m: "
     ]
    }
   ],
   "source": [
    "\n",
    "def sample_instantiate_workflow_template():\n",
    "    # Create a client\n",
    "    client = authentificate()\n",
    "\n",
    "    # Initialize request argument(s)\n",
    "    request = dataproc_v1.InstantiateWorkflowTemplateRequest(\n",
    "        name=\"projects/test-757ec/regions/us-central1/workflowTemplates/aoe2etle\"\n",
    "    )\n",
    "    # Make the request\n",
    "    operation = client.instantiate_workflow_template(request=request)\n",
    "\n",
    "    print(\"Waiting for operation to complete...\")\n",
    "\n",
    "    response = operation.result()\n",
    "\n",
    "    # Handle the response\n",
    "    print(response)\n",
    "sample_instantiate_workflow_template()"
   ]
  },
  {
   "cell_type": "code",
   "execution_count": 14,
   "id": "1f61fd08",
   "metadata": {},
   "outputs": [
    {
     "ename": "NameError",
     "evalue": "name '__file__' is not defined",
     "output_type": "error",
     "traceback": [
      "\u001b[1;31m---------------------------------------------------------------------------\u001b[0m",
      "\u001b[1;31mNameError\u001b[0m                                 Traceback (most recent call last)",
      "\u001b[1;32m~\\AppData\\Local\\Temp/ipykernel_3160/3626193778.py\u001b[0m in \u001b[0;36m<module>\u001b[1;34m\u001b[0m\n\u001b[0;32m      1\u001b[0m \u001b[1;32mimport\u001b[0m \u001b[0mpathlib\u001b[0m\u001b[1;33m\u001b[0m\u001b[1;33m\u001b[0m\u001b[0m\n\u001b[1;32m----> 2\u001b[1;33m \u001b[0mprint\u001b[0m\u001b[1;33m(\u001b[0m\u001b[0mpathlib\u001b[0m\u001b[1;33m.\u001b[0m\u001b[0mPath\u001b[0m\u001b[1;33m(\u001b[0m\u001b[0m__file__\u001b[0m\u001b[1;33m)\u001b[0m\u001b[1;33m.\u001b[0m\u001b[0mparent\u001b[0m\u001b[1;33m.\u001b[0m\u001b[0mresolve\u001b[0m\u001b[1;33m(\u001b[0m\u001b[1;33m)\u001b[0m\u001b[1;33m)\u001b[0m\u001b[1;33m\u001b[0m\u001b[1;33m\u001b[0m\u001b[0m\n\u001b[0m",
      "\u001b[1;31mNameError\u001b[0m: name '__file__' is not defined"
     ]
    }
   ],
   "source": [
    "import pathlib\n",
    "print(pathlib.Path(__file__).parent.resolve())"
   ]
  },
  {
   "cell_type": "code",
   "execution_count": 9,
   "id": "9c200ba5",
   "metadata": {},
   "outputs": [],
   "source": [
    "from pyspark import SparkConf, SparkContext\n",
    "\n",
    "from google.cloud import storage\n",
    "from google.cloud import dataproc_v1\n",
    "from google.oauth2 import service_account\n",
    "\n",
    "keypath = 'gcs_aoe2.json'\n",
    "credentials = service_account.Credentials.from_service_account_file(\n",
    "        keypath, scopes=[\"https://www.googleapis.com/auth/cloud-platform\"])\n",
    "\n",
    "client = storage.Client(credentials=credentials)\n",
    "\n",
    "#client = storage.Client('test-757ec')\n",
    "\n",
    "bucket = client.get_bucket('aoe2spark')\n",
    "\n",
    "blob = bucket.get_blob('RealEstateTransactions.csv')\n",
    "blob.download_to_filename('test.csv')"
   ]
  },
  {
   "cell_type": "code",
   "execution_count": null,
   "id": "fc1d3711",
   "metadata": {},
   "outputs": [],
   "source": []
  },
  {
   "cell_type": "code",
   "execution_count": 2,
   "id": "50c80d5e",
   "metadata": {},
   "outputs": [],
   "source": []
  },
  {
   "cell_type": "code",
   "execution_count": null,
   "id": "103ee893",
   "metadata": {},
   "outputs": [],
   "source": []
  }
 ],
 "metadata": {
  "kernelspec": {
   "display_name": "aoe2spark",
   "language": "python",
   "name": "aoe2spark"
  },
  "language_info": {
   "codemirror_mode": {
    "name": "ipython",
    "version": 3
   },
   "file_extension": ".py",
   "mimetype": "text/x-python",
   "name": "python",
   "nbconvert_exporter": "python",
   "pygments_lexer": "ipython3",
   "version": "3.9.7"
  }
 },
 "nbformat": 4,
 "nbformat_minor": 5
}
